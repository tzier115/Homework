{
 "cells": [
  {
   "cell_type": "code",
   "execution_count": 1,
   "metadata": {
    "collapsed": true
   },
   "outputs": [],
   "source": [
    "import pandas as pd\n",
    "import numpy as np"
   ]
  },
  {
   "cell_type": "code",
   "execution_count": 2,
   "metadata": {
    "collapsed": true
   },
   "outputs": [],
   "source": [
    "students = \"students_complete.csv\""
   ]
  },
  {
   "cell_type": "code",
   "execution_count": 12,
   "metadata": {},
   "outputs": [],
   "source": [
    "studentsdf = pd.read_csv(students)\n"
   ]
  },
  {
   "cell_type": "code",
   "execution_count": 4,
   "metadata": {
    "collapsed": true
   },
   "outputs": [],
   "source": [
    "schools = \"schools_complete.csv\""
   ]
  },
  {
   "cell_type": "code",
   "execution_count": 104,
   "metadata": {},
   "outputs": [
    {
     "data": {
      "text/html": [
       "<div>\n",
       "<style>\n",
       "    .dataframe thead tr:only-child th {\n",
       "        text-align: right;\n",
       "    }\n",
       "\n",
       "    .dataframe thead th {\n",
       "        text-align: left;\n",
       "    }\n",
       "\n",
       "    .dataframe tbody tr th {\n",
       "        vertical-align: top;\n",
       "    }\n",
       "</style>\n",
       "<table border=\"1\" class=\"dataframe\">\n",
       "  <thead>\n",
       "    <tr style=\"text-align: right;\">\n",
       "      <th></th>\n",
       "      <th>School ID</th>\n",
       "      <th>name</th>\n",
       "      <th>type</th>\n",
       "      <th>size</th>\n",
       "      <th>budget</th>\n",
       "    </tr>\n",
       "  </thead>\n",
       "  <tbody>\n",
       "    <tr>\n",
       "      <th>0</th>\n",
       "      <td>0</td>\n",
       "      <td>Huang High School</td>\n",
       "      <td>District</td>\n",
       "      <td>2917</td>\n",
       "      <td>1910635</td>\n",
       "    </tr>\n",
       "    <tr>\n",
       "      <th>1</th>\n",
       "      <td>1</td>\n",
       "      <td>Figueroa High School</td>\n",
       "      <td>District</td>\n",
       "      <td>2949</td>\n",
       "      <td>1884411</td>\n",
       "    </tr>\n",
       "    <tr>\n",
       "      <th>2</th>\n",
       "      <td>2</td>\n",
       "      <td>Shelton High School</td>\n",
       "      <td>Charter</td>\n",
       "      <td>1761</td>\n",
       "      <td>1056600</td>\n",
       "    </tr>\n",
       "    <tr>\n",
       "      <th>3</th>\n",
       "      <td>3</td>\n",
       "      <td>Hernandez High School</td>\n",
       "      <td>District</td>\n",
       "      <td>4635</td>\n",
       "      <td>3022020</td>\n",
       "    </tr>\n",
       "    <tr>\n",
       "      <th>4</th>\n",
       "      <td>4</td>\n",
       "      <td>Griffin High School</td>\n",
       "      <td>Charter</td>\n",
       "      <td>1468</td>\n",
       "      <td>917500</td>\n",
       "    </tr>\n",
       "  </tbody>\n",
       "</table>\n",
       "</div>"
      ],
      "text/plain": [
       "   School ID                   name      type  size   budget\n",
       "0          0      Huang High School  District  2917  1910635\n",
       "1          1   Figueroa High School  District  2949  1884411\n",
       "2          2    Shelton High School   Charter  1761  1056600\n",
       "3          3  Hernandez High School  District  4635  3022020\n",
       "4          4    Griffin High School   Charter  1468   917500"
      ]
     },
     "execution_count": 104,
     "metadata": {},
     "output_type": "execute_result"
    }
   ],
   "source": [
    "schoolsdf = pd.read_csv(schools)\n",
    "schoolsdf.head()"
   ]
  },
  {
   "cell_type": "code",
   "execution_count": 16,
   "metadata": {},
   "outputs": [],
   "source": [
    "Huangpm = studentsdf.loc[(studentsdf[\"math_score\"] >= 70) &\n",
    "                        (studentsdf[\"school\"] == \"Huang High School\")]"
   ]
  },
  {
   "cell_type": "code",
   "execution_count": 35,
   "metadata": {
    "collapsed": true
   },
   "outputs": [],
   "source": [
    "Huangpr = studentsdf.loc[(studentsdf[\"reading_score\"] >= 70) &\n",
    "                        (studentsdf[\"school\"] == \"Huang High School\")]"
   ]
  },
  {
   "cell_type": "code",
   "execution_count": 117,
   "metadata": {},
   "outputs": [],
   "source": [
    "Huangpmtotal = Huangpm[\"reading_score\"].count()"
   ]
  },
  {
   "cell_type": "code",
   "execution_count": 119,
   "metadata": {},
   "outputs": [
    {
     "data": {
      "text/plain": [
       "0.65683921837504289"
      ]
     },
     "execution_count": 119,
     "metadata": {},
     "output_type": "execute_result"
    }
   ],
   "source": [
    "Huangpmr = Huangpmtotal / 2917\n",
    "Huangpmr\n"
   ]
  },
  {
   "cell_type": "code",
   "execution_count": 121,
   "metadata": {
    "collapsed": true
   },
   "outputs": [],
   "source": [
    "Huangprtotal = Huangpr[\"reading_score\"].count()"
   ]
  },
  {
   "cell_type": "code",
   "execution_count": 126,
   "metadata": {},
   "outputs": [
    {
     "data": {
      "text/plain": [
       "0.81316420980459381"
      ]
     },
     "execution_count": 126,
     "metadata": {},
     "output_type": "execute_result"
    }
   ],
   "source": [
    "Huangprr = Huangprtotal / 2917\n",
    "Huangprr\n"
   ]
  },
  {
   "cell_type": "code",
   "execution_count": 127,
   "metadata": {
    "collapsed": true
   },
   "outputs": [],
   "source": [
    "Figpm = studentsdf.loc[(studentsdf[\"math_score\"] >= 70) &\n",
    "                        (studentsdf[\"school\"] == \"Figueroa High School\")]"
   ]
  },
  {
   "cell_type": "code",
   "execution_count": 128,
   "metadata": {
    "collapsed": true
   },
   "outputs": [],
   "source": [
    "Figpr = studentsdf.loc[(studentsdf[\"reading_score\"] >= 70) &\n",
    "                        (studentsdf[\"school\"] == \"Figueroa High School\")]"
   ]
  },
  {
   "cell_type": "code",
   "execution_count": 130,
   "metadata": {
    "collapsed": true
   },
   "outputs": [],
   "source": [
    "Figmptotal = Figpr[\"reading_score\"].count()"
   ]
  },
  {
   "cell_type": "code",
   "execution_count": 131,
   "metadata": {},
   "outputs": [
    {
     "data": {
      "text/plain": [
       "0.80739233638521535"
      ]
     },
     "execution_count": 131,
     "metadata": {},
     "output_type": "execute_result"
    }
   ],
   "source": [
    "Figpmr = Figmptotal / 2949\n",
    "Figpmr"
   ]
  },
  {
   "cell_type": "code",
   "execution_count": 132,
   "metadata": {
    "collapsed": true
   },
   "outputs": [],
   "source": [
    "Figprtotal = Figpr[\"reading_score\"].count()"
   ]
  },
  {
   "cell_type": "code",
   "execution_count": 133,
   "metadata": {},
   "outputs": [
    {
     "data": {
      "text/plain": [
       "0.95469125902165197"
      ]
     },
     "execution_count": 133,
     "metadata": {},
     "output_type": "execute_result"
    }
   ],
   "source": [
    "Figprr = Figprtotal / 2494\n",
    "Figprr"
   ]
  },
  {
   "cell_type": "code",
   "execution_count": 48,
   "metadata": {
    "collapsed": true
   },
   "outputs": [],
   "source": [
    "Shelpm = studentsdf.loc[(studentsdf[\"math_score\"] >= 70) &\n",
    "                        (studentsdf[\"school\"] == \"Shelton High School\")]"
   ]
  },
  {
   "cell_type": "code",
   "execution_count": 49,
   "metadata": {
    "collapsed": true
   },
   "outputs": [],
   "source": [
    "Shelpr = studentsdf.loc[(studentsdf[\"reading_score\"] >= 70) &\n",
    "                        (studentsdf[\"school\"] == \"Shelton High School\")]"
   ]
  },
  {
   "cell_type": "code",
   "execution_count": 134,
   "metadata": {
    "collapsed": true
   },
   "outputs": [],
   "source": [
    "Shelpmtotal = Figpr[\"reading_score\"].count()"
   ]
  },
  {
   "cell_type": "code",
   "execution_count": 135,
   "metadata": {
    "collapsed": true
   },
   "outputs": [],
   "source": [
    "Shelprtotal = Shelpr[\"reading_score\"].count()"
   ]
  },
  {
   "cell_type": "code",
   "execution_count": 136,
   "metadata": {
    "collapsed": true
   },
   "outputs": [],
   "source": [
    "Shelpmr = Shelpmtotal / 1761"
   ]
  },
  {
   "cell_type": "code",
   "execution_count": 137,
   "metadata": {
    "collapsed": true
   },
   "outputs": [],
   "source": [
    "Shelprr = Shelprtotal / 1761"
   ]
  },
  {
   "cell_type": "code",
   "execution_count": 138,
   "metadata": {
    "collapsed": true
   },
   "outputs": [],
   "source": [
    "Hernpm = studentsdf.loc[(studentsdf[\"math_score\"] >= 70) &\n",
    "                        (studentsdf[\"school\"] == \"Hernandez High School\")]"
   ]
  },
  {
   "cell_type": "code",
   "execution_count": 57,
   "metadata": {
    "collapsed": true
   },
   "outputs": [],
   "source": [
    "Hernpr = studentsdf.loc[(studentsdf[\"reading_score\"] >= 70) &\n",
    "                        (studentsdf[\"school\"] == \"Hernandez High School\")]"
   ]
  },
  {
   "cell_type": "code",
   "execution_count": 139,
   "metadata": {
    "collapsed": true
   },
   "outputs": [],
   "source": [
    "Hernpmtotal = Hernpr[\"reading_score\"].count()\n",
    "Hernprtotal = Hernpr[\"reading_score\"].count()"
   ]
  },
  {
   "cell_type": "code",
   "execution_count": 140,
   "metadata": {
    "collapsed": true
   },
   "outputs": [],
   "source": [
    "Hernpmr = Hernpmtotal / 4635\n",
    "Hernprr = Hernprtotal / 4635"
   ]
  },
  {
   "cell_type": "code",
   "execution_count": 141,
   "metadata": {
    "collapsed": true
   },
   "outputs": [],
   "source": [
    "Grifpm = studentsdf.loc[(studentsdf[\"math_score\"] >= 70) &\n",
    "                        (studentsdf[\"school\"] == \"Griffin High School\")]"
   ]
  },
  {
   "cell_type": "code",
   "execution_count": 142,
   "metadata": {
    "collapsed": true
   },
   "outputs": [],
   "source": [
    "Grifpr = studentsdf.loc[(studentsdf[\"reading_score\"] >= 70) &\n",
    "                        (studentsdf[\"school\"] == \"Griffin High School\")]"
   ]
  },
  {
   "cell_type": "code",
   "execution_count": 143,
   "metadata": {
    "collapsed": true
   },
   "outputs": [],
   "source": [
    "Grifpmtotal = Grifpr[\"reading_score\"].count()\n",
    "Grifprtotal = Grifpr[\"reading_score\"].count()"
   ]
  },
  {
   "cell_type": "code",
   "execution_count": 144,
   "metadata": {
    "collapsed": true
   },
   "outputs": [],
   "source": [
    "Grifpmr = Grifpmtotal / 1468\n",
    "Grifprr = Grifprtotal / 1468"
   ]
  },
  {
   "cell_type": "code",
   "execution_count": 145,
   "metadata": {
    "collapsed": true
   },
   "outputs": [],
   "source": [
    "Wilspm = studentsdf.loc[(studentsdf[\"math_score\"] >= 70) &\n",
    "                        (studentsdf[\"school\"] == \"Wilson High School\")]"
   ]
  },
  {
   "cell_type": "code",
   "execution_count": 146,
   "metadata": {
    "collapsed": true
   },
   "outputs": [],
   "source": [
    "Wilspr = studentsdf.loc[(studentsdf[\"reading_score\"] >= 70) &\n",
    "                        (studentsdf[\"school\"] == \"Wilson High School\")]"
   ]
  },
  {
   "cell_type": "code",
   "execution_count": 147,
   "metadata": {
    "collapsed": true
   },
   "outputs": [],
   "source": [
    "Wilspmtotal = Wilspr[\"reading_score\"].count()\n",
    "Wilsprtotal = Wilspr[\"reading_score\"].count()"
   ]
  },
  {
   "cell_type": "code",
   "execution_count": 148,
   "metadata": {
    "collapsed": true
   },
   "outputs": [],
   "source": [
    "Wilspmr = Wilspmtotal / 2283\n",
    "Wilsprr = Wilsprtotal / 2283"
   ]
  },
  {
   "cell_type": "code",
   "execution_count": 149,
   "metadata": {
    "collapsed": true
   },
   "outputs": [],
   "source": [
    "Cabrpm = studentsdf.loc[(studentsdf[\"math_score\"] >= 70) &\n",
    "                        (studentsdf[\"school\"] == \"Cabrera High School\")]"
   ]
  },
  {
   "cell_type": "code",
   "execution_count": 150,
   "metadata": {
    "collapsed": true
   },
   "outputs": [],
   "source": [
    "Cabrpr = studentsdf.loc[(studentsdf[\"reading_score\"] >= 70) &\n",
    "                        (studentsdf[\"school\"] == \"Cabrera High School\")]"
   ]
  },
  {
   "cell_type": "code",
   "execution_count": 151,
   "metadata": {
    "collapsed": true
   },
   "outputs": [],
   "source": [
    "Cabrpmtotal = Cabrpr[\"reading_score\"].count()\n",
    "Cabrprtotal = Cabrpr[\"reading_score\"].count()"
   ]
  },
  {
   "cell_type": "code",
   "execution_count": 152,
   "metadata": {
    "collapsed": true
   },
   "outputs": [],
   "source": [
    "Cabrpmr = Cabrpmtotal / 1858\n",
    "Cabrprr = Cabrprtotal / 1858"
   ]
  },
  {
   "cell_type": "code",
   "execution_count": 153,
   "metadata": {
    "collapsed": true
   },
   "outputs": [],
   "source": [
    "Bailpm = studentsdf.loc[(studentsdf[\"math_score\"] >= 70) &\n",
    "                        (studentsdf[\"school\"] == \"Bailey High School\")]"
   ]
  },
  {
   "cell_type": "code",
   "execution_count": 154,
   "metadata": {
    "collapsed": true
   },
   "outputs": [],
   "source": [
    "Bailpr = studentsdf.loc[(studentsdf[\"reading_score\"] >= 70) &\n",
    "                        (studentsdf[\"school\"] == \"Bail High School\")]"
   ]
  },
  {
   "cell_type": "code",
   "execution_count": 155,
   "metadata": {
    "collapsed": true
   },
   "outputs": [],
   "source": [
    "Bailpmtotal = Bailpr[\"reading_score\"].count()\n",
    "Bailprtotal = Bailpr[\"reading_score\"].count()"
   ]
  },
  {
   "cell_type": "code",
   "execution_count": 156,
   "metadata": {
    "collapsed": true
   },
   "outputs": [],
   "source": [
    "Bailpmr = Bailpmtotal / 4976\n",
    "Bailprr = Bailprtotal / 4976"
   ]
  },
  {
   "cell_type": "code",
   "execution_count": 157,
   "metadata": {
    "collapsed": true
   },
   "outputs": [],
   "source": [
    "Holdpm = studentsdf.loc[(studentsdf[\"math_score\"] >= 70) &\n",
    "                        (studentsdf[\"school\"] == \"Holden High School\")]"
   ]
  },
  {
   "cell_type": "code",
   "execution_count": 158,
   "metadata": {
    "collapsed": true
   },
   "outputs": [],
   "source": [
    "Holdpr = studentsdf.loc[(studentsdf[\"reading_score\"] >= 70) &\n",
    "                        (studentsdf[\"school\"] == \"Holden High School\")]"
   ]
  },
  {
   "cell_type": "code",
   "execution_count": 159,
   "metadata": {},
   "outputs": [],
   "source": [
    "Holdpmtotal = Holdpr[\"reading_score\"].count()\n",
    "Holdprtotal = Holdpr[\"reading_score\"].count()"
   ]
  },
  {
   "cell_type": "code",
   "execution_count": 160,
   "metadata": {
    "collapsed": true
   },
   "outputs": [],
   "source": [
    "Holdpmr = Holdpmtotal / 427\n",
    "Holdprr = Holdprtotal / 427"
   ]
  },
  {
   "cell_type": "code",
   "execution_count": 161,
   "metadata": {
    "collapsed": true
   },
   "outputs": [],
   "source": [
    "Penapm = studentsdf.loc[(studentsdf[\"math_score\"] >= 70) &\n",
    "                        (studentsdf[\"school\"] == \"Pena High School\")]"
   ]
  },
  {
   "cell_type": "code",
   "execution_count": 162,
   "metadata": {
    "collapsed": true
   },
   "outputs": [],
   "source": [
    "Penapr = studentsdf.loc[(studentsdf[\"reading_score\"] >= 70) &\n",
    "                        (studentsdf[\"school\"] == \"Pena High School\")]"
   ]
  },
  {
   "cell_type": "code",
   "execution_count": 163,
   "metadata": {
    "collapsed": true
   },
   "outputs": [],
   "source": [
    "Penapmtotal = Penapr[\"reading_score\"].count()\n",
    "Penaprtotal = Penapr[\"reading_score\"].count()"
   ]
  },
  {
   "cell_type": "code",
   "execution_count": 164,
   "metadata": {
    "collapsed": true
   },
   "outputs": [],
   "source": [
    "Penapmr = Penapmtotal / 962\n",
    "Penaprr = Penaprtotal / 962"
   ]
  },
  {
   "cell_type": "code",
   "execution_count": 165,
   "metadata": {
    "collapsed": true
   },
   "outputs": [],
   "source": [
    "Wrigpm = studentsdf.loc[(studentsdf[\"math_score\"] >= 70) &\n",
    "                        (studentsdf[\"school\"] == \"Wright High School\")]\n",
    "Wrigpr = studentsdf.loc[(studentsdf[\"reading_score\"] >= 70) &\n",
    "                        (studentsdf[\"school\"] == \"Wright High School\")]"
   ]
  },
  {
   "cell_type": "code",
   "execution_count": 166,
   "metadata": {
    "collapsed": true
   },
   "outputs": [],
   "source": [
    "Wrigpmtotal = Wrigpr[\"reading_score\"].count()\n",
    "Wrigprtotal = Wrigpr[\"reading_score\"].count()"
   ]
  },
  {
   "cell_type": "code",
   "execution_count": 167,
   "metadata": {
    "collapsed": true
   },
   "outputs": [],
   "source": [
    "Wrigpmr = Wrigpmtotal / 1800\n",
    "Wrigprr = Wrigprtotal / 1800"
   ]
  },
  {
   "cell_type": "code",
   "execution_count": 168,
   "metadata": {
    "collapsed": true
   },
   "outputs": [],
   "source": [
    "Rodrpm = studentsdf.loc[(studentsdf[\"math_score\"] >= 70) &\n",
    "                        (studentsdf[\"school\"] == \"Rodriguez High School\")]\n",
    "Rodrpr = studentsdf.loc[(studentsdf[\"reading_score\"] >= 70) &\n",
    "                        (studentsdf[\"school\"] == \"Rodriguez High School\")]"
   ]
  },
  {
   "cell_type": "code",
   "execution_count": 169,
   "metadata": {
    "collapsed": true
   },
   "outputs": [],
   "source": [
    "Rodrpmtotal = Rodrpr[\"reading_score\"].count()\n",
    "Rodrprtotal = Rodrpr[\"reading_score\"].count()"
   ]
  },
  {
   "cell_type": "code",
   "execution_count": 170,
   "metadata": {
    "collapsed": true
   },
   "outputs": [],
   "source": [
    "Rodrpmr = Rodrpmtotal / 3999\n",
    "Rodrprr = Rodrprtotal / 3999"
   ]
  },
  {
   "cell_type": "code",
   "execution_count": 171,
   "metadata": {
    "collapsed": true
   },
   "outputs": [],
   "source": [
    "Johnpm = studentsdf.loc[(studentsdf[\"math_score\"] >= 70) &\n",
    "                        (studentsdf[\"school\"] == \"Johnson High School\")]\n",
    "Johnpr = studentsdf.loc[(studentsdf[\"reading_score\"] >= 70) &\n",
    "                        (studentsdf[\"school\"] == \"Johnson High School\")]"
   ]
  },
  {
   "cell_type": "code",
   "execution_count": 172,
   "metadata": {
    "collapsed": true
   },
   "outputs": [],
   "source": [
    "Johnpmtotal = Johnpr[\"reading_score\"].count()\n",
    "Johnprtotal = Johnpr[\"reading_score\"].count()"
   ]
  },
  {
   "cell_type": "code",
   "execution_count": 173,
   "metadata": {
    "collapsed": true
   },
   "outputs": [],
   "source": [
    "Johnpmr = Johnpmtotal / 4761\n",
    "Johnprr = Johnprtotal / 4761"
   ]
  },
  {
   "cell_type": "code",
   "execution_count": 174,
   "metadata": {
    "collapsed": true
   },
   "outputs": [],
   "source": [
    "Fordpm = studentsdf.loc[(studentsdf[\"math_score\"] >= 70) &\n",
    "                        (studentsdf[\"school\"] == \"Ford High School\")]\n",
    "Fordpr = studentsdf.loc[(studentsdf[\"reading_score\"] >= 70) &\n",
    "                        (studentsdf[\"school\"] == \"Ford High School\")]"
   ]
  },
  {
   "cell_type": "code",
   "execution_count": 175,
   "metadata": {
    "collapsed": true
   },
   "outputs": [],
   "source": [
    "Fordpmtotal = Fordpr[\"reading_score\"].count()\n",
    "Fordprtotal = Fordpr[\"reading_score\"].count()"
   ]
  },
  {
   "cell_type": "code",
   "execution_count": 176,
   "metadata": {
    "collapsed": true
   },
   "outputs": [],
   "source": [
    "Fordpmr = Fordpmtotal / 2739\n",
    "Fordprr = Fordprtotal / 2739"
   ]
  },
  {
   "cell_type": "code",
   "execution_count": 177,
   "metadata": {
    "collapsed": true
   },
   "outputs": [],
   "source": [
    "Thompm = studentsdf.loc[(studentsdf[\"math_score\"] >= 70) &\n",
    "                        (studentsdf[\"school\"] == \"Thomas High School\")]\n",
    "Thompr = studentsdf.loc[(studentsdf[\"reading_score\"] >= 70) &\n",
    "                        (studentsdf[\"school\"] == \"Thomas High School\")]"
   ]
  },
  {
   "cell_type": "code",
   "execution_count": 178,
   "metadata": {
    "collapsed": true
   },
   "outputs": [],
   "source": [
    "Thompmtotal = Thompr[\"reading_score\"].count()\n",
    "Thomprtotal = Thompr[\"reading_score\"].count()"
   ]
  },
  {
   "cell_type": "code",
   "execution_count": 179,
   "metadata": {
    "collapsed": true
   },
   "outputs": [],
   "source": [
    "Thompmr = Thompmtotal / 1635\n",
    "Thomprr = Thomprtotal / 1635"
   ]
  },
  {
   "cell_type": "code",
   "execution_count": 183,
   "metadata": {},
   "outputs": [],
   "source": [
    "scm = schoolsdf.assign(Average_Math_Score = [Huangpmr, Figpmr, Shelpmr, Hernpmr,\n",
    "                                       Grifpmr, Wilspmr, Cabrpmr, Bailpmr, Holdpmr, \n",
    "                                       Penapmr, Wrigpmr, Rodrpmr, Johnpmr, Fordpmr, Thompmr])"
   ]
  },
  {
   "cell_type": "code",
   "execution_count": 185,
   "metadata": {},
   "outputs": [],
   "source": [
    "scr = scm.assign(Average_Reading_Score = [Huangprr, Figprr, Shelprr, Hernprr,\n",
    "                                       Grifprr, Wilsprr, Cabrprr, Bailprr, Holdprr, \n",
    "                                       Penaprr, Wrigprr, Rodrprr, Johnprr, Fordprr, Thomprr])"
   ]
  },
  {
   "cell_type": "code",
   "execution_count": 186,
   "metadata": {},
   "outputs": [
    {
     "data": {
      "text/html": [
       "<div>\n",
       "<style>\n",
       "    .dataframe thead tr:only-child th {\n",
       "        text-align: right;\n",
       "    }\n",
       "\n",
       "    .dataframe thead th {\n",
       "        text-align: left;\n",
       "    }\n",
       "\n",
       "    .dataframe tbody tr th {\n",
       "        vertical-align: top;\n",
       "    }\n",
       "</style>\n",
       "<table border=\"1\" class=\"dataframe\">\n",
       "  <thead>\n",
       "    <tr style=\"text-align: right;\">\n",
       "      <th></th>\n",
       "      <th>School ID</th>\n",
       "      <th>name</th>\n",
       "      <th>type</th>\n",
       "      <th>size</th>\n",
       "      <th>budget</th>\n",
       "      <th>Average_Math_Score</th>\n",
       "      <th>Average_Reading_Score</th>\n",
       "    </tr>\n",
       "  </thead>\n",
       "  <tbody>\n",
       "    <tr>\n",
       "      <th>0</th>\n",
       "      <td>0</td>\n",
       "      <td>Huang High School</td>\n",
       "      <td>District</td>\n",
       "      <td>2917</td>\n",
       "      <td>1910635</td>\n",
       "      <td>0.656839</td>\n",
       "      <td>0.813164</td>\n",
       "    </tr>\n",
       "    <tr>\n",
       "      <th>1</th>\n",
       "      <td>1</td>\n",
       "      <td>Figueroa High School</td>\n",
       "      <td>District</td>\n",
       "      <td>2949</td>\n",
       "      <td>1884411</td>\n",
       "      <td>0.807392</td>\n",
       "      <td>0.954691</td>\n",
       "    </tr>\n",
       "    <tr>\n",
       "      <th>2</th>\n",
       "      <td>2</td>\n",
       "      <td>Shelton High School</td>\n",
       "      <td>Charter</td>\n",
       "      <td>1761</td>\n",
       "      <td>1056600</td>\n",
       "      <td>1.352073</td>\n",
       "      <td>0.958546</td>\n",
       "    </tr>\n",
       "    <tr>\n",
       "      <th>3</th>\n",
       "      <td>3</td>\n",
       "      <td>Hernandez High School</td>\n",
       "      <td>District</td>\n",
       "      <td>4635</td>\n",
       "      <td>3022020</td>\n",
       "      <td>0.808630</td>\n",
       "      <td>0.808630</td>\n",
       "    </tr>\n",
       "    <tr>\n",
       "      <th>4</th>\n",
       "      <td>4</td>\n",
       "      <td>Griffin High School</td>\n",
       "      <td>Charter</td>\n",
       "      <td>1468</td>\n",
       "      <td>917500</td>\n",
       "      <td>0.971390</td>\n",
       "      <td>0.971390</td>\n",
       "    </tr>\n",
       "    <tr>\n",
       "      <th>5</th>\n",
       "      <td>5</td>\n",
       "      <td>Wilson High School</td>\n",
       "      <td>Charter</td>\n",
       "      <td>2283</td>\n",
       "      <td>1319574</td>\n",
       "      <td>0.965396</td>\n",
       "      <td>0.965396</td>\n",
       "    </tr>\n",
       "    <tr>\n",
       "      <th>6</th>\n",
       "      <td>6</td>\n",
       "      <td>Cabrera High School</td>\n",
       "      <td>Charter</td>\n",
       "      <td>1858</td>\n",
       "      <td>1081356</td>\n",
       "      <td>0.970398</td>\n",
       "      <td>0.970398</td>\n",
       "    </tr>\n",
       "    <tr>\n",
       "      <th>7</th>\n",
       "      <td>7</td>\n",
       "      <td>Bailey High School</td>\n",
       "      <td>District</td>\n",
       "      <td>4976</td>\n",
       "      <td>3124928</td>\n",
       "      <td>0.000000</td>\n",
       "      <td>0.000000</td>\n",
       "    </tr>\n",
       "    <tr>\n",
       "      <th>8</th>\n",
       "      <td>8</td>\n",
       "      <td>Holden High School</td>\n",
       "      <td>Charter</td>\n",
       "      <td>427</td>\n",
       "      <td>248087</td>\n",
       "      <td>0.962529</td>\n",
       "      <td>0.962529</td>\n",
       "    </tr>\n",
       "    <tr>\n",
       "      <th>9</th>\n",
       "      <td>9</td>\n",
       "      <td>Pena High School</td>\n",
       "      <td>Charter</td>\n",
       "      <td>962</td>\n",
       "      <td>585858</td>\n",
       "      <td>0.959459</td>\n",
       "      <td>0.959459</td>\n",
       "    </tr>\n",
       "    <tr>\n",
       "      <th>10</th>\n",
       "      <td>10</td>\n",
       "      <td>Wright High School</td>\n",
       "      <td>Charter</td>\n",
       "      <td>1800</td>\n",
       "      <td>1049400</td>\n",
       "      <td>0.966111</td>\n",
       "      <td>0.966111</td>\n",
       "    </tr>\n",
       "    <tr>\n",
       "      <th>11</th>\n",
       "      <td>11</td>\n",
       "      <td>Rodriguez High School</td>\n",
       "      <td>District</td>\n",
       "      <td>3999</td>\n",
       "      <td>2547363</td>\n",
       "      <td>0.802201</td>\n",
       "      <td>0.802201</td>\n",
       "    </tr>\n",
       "    <tr>\n",
       "      <th>12</th>\n",
       "      <td>12</td>\n",
       "      <td>Johnson High School</td>\n",
       "      <td>District</td>\n",
       "      <td>4761</td>\n",
       "      <td>3094650</td>\n",
       "      <td>0.812224</td>\n",
       "      <td>0.812224</td>\n",
       "    </tr>\n",
       "    <tr>\n",
       "      <th>13</th>\n",
       "      <td>13</td>\n",
       "      <td>Ford High School</td>\n",
       "      <td>District</td>\n",
       "      <td>2739</td>\n",
       "      <td>1763916</td>\n",
       "      <td>0.792990</td>\n",
       "      <td>0.792990</td>\n",
       "    </tr>\n",
       "    <tr>\n",
       "      <th>14</th>\n",
       "      <td>14</td>\n",
       "      <td>Thomas High School</td>\n",
       "      <td>Charter</td>\n",
       "      <td>1635</td>\n",
       "      <td>1043130</td>\n",
       "      <td>0.973089</td>\n",
       "      <td>0.973089</td>\n",
       "    </tr>\n",
       "  </tbody>\n",
       "</table>\n",
       "</div>"
      ],
      "text/plain": [
       "    School ID                   name      type  size   budget  \\\n",
       "0           0      Huang High School  District  2917  1910635   \n",
       "1           1   Figueroa High School  District  2949  1884411   \n",
       "2           2    Shelton High School   Charter  1761  1056600   \n",
       "3           3  Hernandez High School  District  4635  3022020   \n",
       "4           4    Griffin High School   Charter  1468   917500   \n",
       "5           5     Wilson High School   Charter  2283  1319574   \n",
       "6           6    Cabrera High School   Charter  1858  1081356   \n",
       "7           7     Bailey High School  District  4976  3124928   \n",
       "8           8     Holden High School   Charter   427   248087   \n",
       "9           9       Pena High School   Charter   962   585858   \n",
       "10         10     Wright High School   Charter  1800  1049400   \n",
       "11         11  Rodriguez High School  District  3999  2547363   \n",
       "12         12    Johnson High School  District  4761  3094650   \n",
       "13         13       Ford High School  District  2739  1763916   \n",
       "14         14     Thomas High School   Charter  1635  1043130   \n",
       "\n",
       "    Average_Math_Score  Average_Reading_Score  \n",
       "0             0.656839               0.813164  \n",
       "1             0.807392               0.954691  \n",
       "2             1.352073               0.958546  \n",
       "3             0.808630               0.808630  \n",
       "4             0.971390               0.971390  \n",
       "5             0.965396               0.965396  \n",
       "6             0.970398               0.970398  \n",
       "7             0.000000               0.000000  \n",
       "8             0.962529               0.962529  \n",
       "9             0.959459               0.959459  \n",
       "10            0.966111               0.966111  \n",
       "11            0.802201               0.802201  \n",
       "12            0.812224               0.812224  \n",
       "13            0.792990               0.792990  \n",
       "14            0.973089               0.973089  "
      ]
     },
     "execution_count": 186,
     "metadata": {},
     "output_type": "execute_result"
    }
   ],
   "source": [
    "scr"
   ]
  },
  {
   "cell_type": "code",
   "execution_count": 187,
   "metadata": {
    "collapsed": true
   },
   "outputs": [],
   "source": [
    "scrcom = scr[['Average_Math_Score','Average_Reading_Score']].mean(axis=1)"
   ]
  },
  {
   "cell_type": "code",
   "execution_count": 198,
   "metadata": {},
   "outputs": [],
   "source": [
    "final = pd.concat([scr, scrcom], axis=1)\n"
   ]
  },
  {
   "cell_type": "code",
   "execution_count": 211,
   "metadata": {},
   "outputs": [
    {
     "data": {
      "text/html": [
       "<div>\n",
       "<style>\n",
       "    .dataframe thead tr:only-child th {\n",
       "        text-align: right;\n",
       "    }\n",
       "\n",
       "    .dataframe thead th {\n",
       "        text-align: left;\n",
       "    }\n",
       "\n",
       "    .dataframe tbody tr th {\n",
       "        vertical-align: top;\n",
       "    }\n",
       "</style>\n",
       "<table border=\"1\" class=\"dataframe\">\n",
       "  <thead>\n",
       "    <tr style=\"text-align: right;\">\n",
       "      <th></th>\n",
       "      <th>School ID</th>\n",
       "      <th>name</th>\n",
       "      <th>type</th>\n",
       "      <th>size</th>\n",
       "      <th>budget</th>\n",
       "      <th>Average_Math_Score</th>\n",
       "      <th>Average_Reading_Score</th>\n",
       "      <th>% Overall Passing</th>\n",
       "    </tr>\n",
       "  </thead>\n",
       "  <tbody>\n",
       "    <tr>\n",
       "      <th>0</th>\n",
       "      <td>0</td>\n",
       "      <td>Huang High School</td>\n",
       "      <td>District</td>\n",
       "      <td>2917</td>\n",
       "      <td>1910635</td>\n",
       "      <td>0.656839</td>\n",
       "      <td>0.813164</td>\n",
       "      <td>0.735002</td>\n",
       "    </tr>\n",
       "    <tr>\n",
       "      <th>1</th>\n",
       "      <td>1</td>\n",
       "      <td>Figueroa High School</td>\n",
       "      <td>District</td>\n",
       "      <td>2949</td>\n",
       "      <td>1884411</td>\n",
       "      <td>0.807392</td>\n",
       "      <td>0.954691</td>\n",
       "      <td>0.881042</td>\n",
       "    </tr>\n",
       "    <tr>\n",
       "      <th>2</th>\n",
       "      <td>2</td>\n",
       "      <td>Shelton High School</td>\n",
       "      <td>Charter</td>\n",
       "      <td>1761</td>\n",
       "      <td>1056600</td>\n",
       "      <td>1.352073</td>\n",
       "      <td>0.958546</td>\n",
       "      <td>1.155309</td>\n",
       "    </tr>\n",
       "    <tr>\n",
       "      <th>3</th>\n",
       "      <td>3</td>\n",
       "      <td>Hernandez High School</td>\n",
       "      <td>District</td>\n",
       "      <td>4635</td>\n",
       "      <td>3022020</td>\n",
       "      <td>0.808630</td>\n",
       "      <td>0.808630</td>\n",
       "      <td>0.808630</td>\n",
       "    </tr>\n",
       "    <tr>\n",
       "      <th>4</th>\n",
       "      <td>4</td>\n",
       "      <td>Griffin High School</td>\n",
       "      <td>Charter</td>\n",
       "      <td>1468</td>\n",
       "      <td>917500</td>\n",
       "      <td>0.971390</td>\n",
       "      <td>0.971390</td>\n",
       "      <td>0.971390</td>\n",
       "    </tr>\n",
       "  </tbody>\n",
       "</table>\n",
       "</div>"
      ],
      "text/plain": [
       "   School ID                   name      type  size   budget  \\\n",
       "0          0      Huang High School  District  2917  1910635   \n",
       "1          1   Figueroa High School  District  2949  1884411   \n",
       "2          2    Shelton High School   Charter  1761  1056600   \n",
       "3          3  Hernandez High School  District  4635  3022020   \n",
       "4          4    Griffin High School   Charter  1468   917500   \n",
       "\n",
       "   Average_Math_Score  Average_Reading_Score  % Overall Passing  \n",
       "0            0.656839               0.813164           0.735002  \n",
       "1            0.807392               0.954691           0.881042  \n",
       "2            1.352073               0.958546           1.155309  \n",
       "3            0.808630               0.808630           0.808630  \n",
       "4            0.971390               0.971390           0.971390  "
      ]
     },
     "execution_count": 211,
     "metadata": {},
     "output_type": "execute_result"
    }
   ],
   "source": [
    "xf = final.rename(columns={0 : '% Overall Passing'})\n",
    "xf.head()"
   ]
  },
  {
   "cell_type": "code",
   "execution_count": 199,
   "metadata": {},
   "outputs": [
    {
     "data": {
      "text/plain": [
       "0    2917\n",
       "1    2949\n",
       "2    1761\n",
       "3    4635\n",
       "4    1468\n",
       "Name: size, dtype: int64"
      ]
     },
     "execution_count": 199,
     "metadata": {},
     "output_type": "execute_result"
    }
   ],
   "source": [
    "stupop = schoolsdf[\"size\"]\n",
    "stupop.head()"
   ]
  },
  {
   "cell_type": "code",
   "execution_count": 201,
   "metadata": {
    "collapsed": true
   },
   "outputs": [],
   "source": [
    "sbudget = schoolsdf[\"budget\"]"
   ]
  },
  {
   "cell_type": "code",
   "execution_count": 202,
   "metadata": {
    "collapsed": true
   },
   "outputs": [],
   "source": [
    "sbudgetnum = pd.to_numeric(sbudget)\n",
    "stupopnum = pd.to_numeric(stupop)"
   ]
  },
  {
   "cell_type": "code",
   "execution_count": 203,
   "metadata": {},
   "outputs": [
    {
     "data": {
      "text/plain": [
       "0     655.0\n",
       "1     639.0\n",
       "2     600.0\n",
       "3     652.0\n",
       "4     625.0\n",
       "5     578.0\n",
       "6     582.0\n",
       "7     628.0\n",
       "8     581.0\n",
       "9     609.0\n",
       "10    583.0\n",
       "11    637.0\n",
       "12    650.0\n",
       "13    644.0\n",
       "14    638.0\n",
       "dtype: float64"
      ]
     },
     "execution_count": 203,
     "metadata": {},
     "output_type": "execute_result"
    }
   ],
   "source": [
    "perstubu = sbudgetnum / stupopnum\n",
    "perstubu"
   ]
  },
  {
   "cell_type": "code",
   "execution_count": 212,
   "metadata": {
    "collapsed": true
   },
   "outputs": [],
   "source": [
    "ff = pd.concat([xf, perstubu], axis=1)"
   ]
  },
  {
   "cell_type": "code",
   "execution_count": 213,
   "metadata": {},
   "outputs": [
    {
     "data": {
      "text/html": [
       "<div>\n",
       "<style>\n",
       "    .dataframe thead tr:only-child th {\n",
       "        text-align: right;\n",
       "    }\n",
       "\n",
       "    .dataframe thead th {\n",
       "        text-align: left;\n",
       "    }\n",
       "\n",
       "    .dataframe tbody tr th {\n",
       "        vertical-align: top;\n",
       "    }\n",
       "</style>\n",
       "<table border=\"1\" class=\"dataframe\">\n",
       "  <thead>\n",
       "    <tr style=\"text-align: right;\">\n",
       "      <th></th>\n",
       "      <th>School ID</th>\n",
       "      <th>name</th>\n",
       "      <th>type</th>\n",
       "      <th>size</th>\n",
       "      <th>budget</th>\n",
       "      <th>Average_Math_Score</th>\n",
       "      <th>Average_Reading_Score</th>\n",
       "      <th>% Overall Passing</th>\n",
       "      <th>0</th>\n",
       "    </tr>\n",
       "  </thead>\n",
       "  <tbody>\n",
       "    <tr>\n",
       "      <th>0</th>\n",
       "      <td>0</td>\n",
       "      <td>Huang High School</td>\n",
       "      <td>District</td>\n",
       "      <td>2917</td>\n",
       "      <td>1910635</td>\n",
       "      <td>0.656839</td>\n",
       "      <td>0.813164</td>\n",
       "      <td>0.735002</td>\n",
       "      <td>655.0</td>\n",
       "    </tr>\n",
       "    <tr>\n",
       "      <th>1</th>\n",
       "      <td>1</td>\n",
       "      <td>Figueroa High School</td>\n",
       "      <td>District</td>\n",
       "      <td>2949</td>\n",
       "      <td>1884411</td>\n",
       "      <td>0.807392</td>\n",
       "      <td>0.954691</td>\n",
       "      <td>0.881042</td>\n",
       "      <td>639.0</td>\n",
       "    </tr>\n",
       "    <tr>\n",
       "      <th>2</th>\n",
       "      <td>2</td>\n",
       "      <td>Shelton High School</td>\n",
       "      <td>Charter</td>\n",
       "      <td>1761</td>\n",
       "      <td>1056600</td>\n",
       "      <td>1.352073</td>\n",
       "      <td>0.958546</td>\n",
       "      <td>1.155309</td>\n",
       "      <td>600.0</td>\n",
       "    </tr>\n",
       "    <tr>\n",
       "      <th>3</th>\n",
       "      <td>3</td>\n",
       "      <td>Hernandez High School</td>\n",
       "      <td>District</td>\n",
       "      <td>4635</td>\n",
       "      <td>3022020</td>\n",
       "      <td>0.808630</td>\n",
       "      <td>0.808630</td>\n",
       "      <td>0.808630</td>\n",
       "      <td>652.0</td>\n",
       "    </tr>\n",
       "    <tr>\n",
       "      <th>4</th>\n",
       "      <td>4</td>\n",
       "      <td>Griffin High School</td>\n",
       "      <td>Charter</td>\n",
       "      <td>1468</td>\n",
       "      <td>917500</td>\n",
       "      <td>0.971390</td>\n",
       "      <td>0.971390</td>\n",
       "      <td>0.971390</td>\n",
       "      <td>625.0</td>\n",
       "    </tr>\n",
       "  </tbody>\n",
       "</table>\n",
       "</div>"
      ],
      "text/plain": [
       "   School ID                   name      type  size   budget  \\\n",
       "0          0      Huang High School  District  2917  1910635   \n",
       "1          1   Figueroa High School  District  2949  1884411   \n",
       "2          2    Shelton High School   Charter  1761  1056600   \n",
       "3          3  Hernandez High School  District  4635  3022020   \n",
       "4          4    Griffin High School   Charter  1468   917500   \n",
       "\n",
       "   Average_Math_Score  Average_Reading_Score  % Overall Passing      0  \n",
       "0            0.656839               0.813164           0.735002  655.0  \n",
       "1            0.807392               0.954691           0.881042  639.0  \n",
       "2            1.352073               0.958546           1.155309  600.0  \n",
       "3            0.808630               0.808630           0.808630  652.0  \n",
       "4            0.971390               0.971390           0.971390  625.0  "
      ]
     },
     "execution_count": 213,
     "metadata": {},
     "output_type": "execute_result"
    }
   ],
   "source": [
    "ff.head()"
   ]
  },
  {
   "cell_type": "code",
   "execution_count": 214,
   "metadata": {
    "collapsed": true
   },
   "outputs": [],
   "source": [
    "fff = ff.rename(columns={0 : \"Per Student Budget\"})"
   ]
  },
  {
   "cell_type": "code",
   "execution_count": 215,
   "metadata": {},
   "outputs": [
    {
     "data": {
      "text/html": [
       "<div>\n",
       "<style>\n",
       "    .dataframe thead tr:only-child th {\n",
       "        text-align: right;\n",
       "    }\n",
       "\n",
       "    .dataframe thead th {\n",
       "        text-align: left;\n",
       "    }\n",
       "\n",
       "    .dataframe tbody tr th {\n",
       "        vertical-align: top;\n",
       "    }\n",
       "</style>\n",
       "<table border=\"1\" class=\"dataframe\">\n",
       "  <thead>\n",
       "    <tr style=\"text-align: right;\">\n",
       "      <th></th>\n",
       "      <th>School ID</th>\n",
       "      <th>name</th>\n",
       "      <th>type</th>\n",
       "      <th>size</th>\n",
       "      <th>budget</th>\n",
       "      <th>Average_Math_Score</th>\n",
       "      <th>Average_Reading_Score</th>\n",
       "      <th>% Overall Passing</th>\n",
       "      <th>Per Student Budget</th>\n",
       "    </tr>\n",
       "  </thead>\n",
       "  <tbody>\n",
       "    <tr>\n",
       "      <th>0</th>\n",
       "      <td>0</td>\n",
       "      <td>Huang High School</td>\n",
       "      <td>District</td>\n",
       "      <td>2917</td>\n",
       "      <td>1910635</td>\n",
       "      <td>0.656839</td>\n",
       "      <td>0.813164</td>\n",
       "      <td>0.735002</td>\n",
       "      <td>655.0</td>\n",
       "    </tr>\n",
       "    <tr>\n",
       "      <th>1</th>\n",
       "      <td>1</td>\n",
       "      <td>Figueroa High School</td>\n",
       "      <td>District</td>\n",
       "      <td>2949</td>\n",
       "      <td>1884411</td>\n",
       "      <td>0.807392</td>\n",
       "      <td>0.954691</td>\n",
       "      <td>0.881042</td>\n",
       "      <td>639.0</td>\n",
       "    </tr>\n",
       "    <tr>\n",
       "      <th>2</th>\n",
       "      <td>2</td>\n",
       "      <td>Shelton High School</td>\n",
       "      <td>Charter</td>\n",
       "      <td>1761</td>\n",
       "      <td>1056600</td>\n",
       "      <td>1.352073</td>\n",
       "      <td>0.958546</td>\n",
       "      <td>1.155309</td>\n",
       "      <td>600.0</td>\n",
       "    </tr>\n",
       "    <tr>\n",
       "      <th>3</th>\n",
       "      <td>3</td>\n",
       "      <td>Hernandez High School</td>\n",
       "      <td>District</td>\n",
       "      <td>4635</td>\n",
       "      <td>3022020</td>\n",
       "      <td>0.808630</td>\n",
       "      <td>0.808630</td>\n",
       "      <td>0.808630</td>\n",
       "      <td>652.0</td>\n",
       "    </tr>\n",
       "    <tr>\n",
       "      <th>4</th>\n",
       "      <td>4</td>\n",
       "      <td>Griffin High School</td>\n",
       "      <td>Charter</td>\n",
       "      <td>1468</td>\n",
       "      <td>917500</td>\n",
       "      <td>0.971390</td>\n",
       "      <td>0.971390</td>\n",
       "      <td>0.971390</td>\n",
       "      <td>625.0</td>\n",
       "    </tr>\n",
       "  </tbody>\n",
       "</table>\n",
       "</div>"
      ],
      "text/plain": [
       "   School ID                   name      type  size   budget  \\\n",
       "0          0      Huang High School  District  2917  1910635   \n",
       "1          1   Figueroa High School  District  2949  1884411   \n",
       "2          2    Shelton High School   Charter  1761  1056600   \n",
       "3          3  Hernandez High School  District  4635  3022020   \n",
       "4          4    Griffin High School   Charter  1468   917500   \n",
       "\n",
       "   Average_Math_Score  Average_Reading_Score  % Overall Passing  \\\n",
       "0            0.656839               0.813164           0.735002   \n",
       "1            0.807392               0.954691           0.881042   \n",
       "2            1.352073               0.958546           1.155309   \n",
       "3            0.808630               0.808630           0.808630   \n",
       "4            0.971390               0.971390           0.971390   \n",
       "\n",
       "   Per Student Budget  \n",
       "0               655.0  \n",
       "1               639.0  \n",
       "2               600.0  \n",
       "3               652.0  \n",
       "4               625.0  "
      ]
     },
     "execution_count": 215,
     "metadata": {},
     "output_type": "execute_result"
    }
   ],
   "source": [
    "fff"
   ]
  },
  {
   "cell_type": "code",
   "execution_count": 217,
   "metadata": {},
   "outputs": [],
   "source": [
    "del fff[\"School ID\"]"
   ]
  },
  {
   "cell_type": "code",
   "execution_count": 218,
   "metadata": {},
   "outputs": [
    {
     "data": {
      "text/html": [
       "<div>\n",
       "<style>\n",
       "    .dataframe thead tr:only-child th {\n",
       "        text-align: right;\n",
       "    }\n",
       "\n",
       "    .dataframe thead th {\n",
       "        text-align: left;\n",
       "    }\n",
       "\n",
       "    .dataframe tbody tr th {\n",
       "        vertical-align: top;\n",
       "    }\n",
       "</style>\n",
       "<table border=\"1\" class=\"dataframe\">\n",
       "  <thead>\n",
       "    <tr style=\"text-align: right;\">\n",
       "      <th></th>\n",
       "      <th>name</th>\n",
       "      <th>type</th>\n",
       "      <th>size</th>\n",
       "      <th>budget</th>\n",
       "      <th>Average_Math_Score</th>\n",
       "      <th>Average_Reading_Score</th>\n",
       "      <th>% Overall Passing</th>\n",
       "      <th>Per Student Budget</th>\n",
       "    </tr>\n",
       "  </thead>\n",
       "  <tbody>\n",
       "    <tr>\n",
       "      <th>0</th>\n",
       "      <td>Huang High School</td>\n",
       "      <td>District</td>\n",
       "      <td>2917</td>\n",
       "      <td>1910635</td>\n",
       "      <td>0.656839</td>\n",
       "      <td>0.813164</td>\n",
       "      <td>0.735002</td>\n",
       "      <td>655.0</td>\n",
       "    </tr>\n",
       "    <tr>\n",
       "      <th>1</th>\n",
       "      <td>Figueroa High School</td>\n",
       "      <td>District</td>\n",
       "      <td>2949</td>\n",
       "      <td>1884411</td>\n",
       "      <td>0.807392</td>\n",
       "      <td>0.954691</td>\n",
       "      <td>0.881042</td>\n",
       "      <td>639.0</td>\n",
       "    </tr>\n",
       "    <tr>\n",
       "      <th>2</th>\n",
       "      <td>Shelton High School</td>\n",
       "      <td>Charter</td>\n",
       "      <td>1761</td>\n",
       "      <td>1056600</td>\n",
       "      <td>1.352073</td>\n",
       "      <td>0.958546</td>\n",
       "      <td>1.155309</td>\n",
       "      <td>600.0</td>\n",
       "    </tr>\n",
       "    <tr>\n",
       "      <th>3</th>\n",
       "      <td>Hernandez High School</td>\n",
       "      <td>District</td>\n",
       "      <td>4635</td>\n",
       "      <td>3022020</td>\n",
       "      <td>0.808630</td>\n",
       "      <td>0.808630</td>\n",
       "      <td>0.808630</td>\n",
       "      <td>652.0</td>\n",
       "    </tr>\n",
       "    <tr>\n",
       "      <th>4</th>\n",
       "      <td>Griffin High School</td>\n",
       "      <td>Charter</td>\n",
       "      <td>1468</td>\n",
       "      <td>917500</td>\n",
       "      <td>0.971390</td>\n",
       "      <td>0.971390</td>\n",
       "      <td>0.971390</td>\n",
       "      <td>625.0</td>\n",
       "    </tr>\n",
       "  </tbody>\n",
       "</table>\n",
       "</div>"
      ],
      "text/plain": [
       "                    name      type  size   budget  Average_Math_Score  \\\n",
       "0      Huang High School  District  2917  1910635            0.656839   \n",
       "1   Figueroa High School  District  2949  1884411            0.807392   \n",
       "2    Shelton High School   Charter  1761  1056600            1.352073   \n",
       "3  Hernandez High School  District  4635  3022020            0.808630   \n",
       "4    Griffin High School   Charter  1468   917500            0.971390   \n",
       "\n",
       "   Average_Reading_Score  % Overall Passing  Per Student Budget  \n",
       "0               0.813164           0.735002               655.0  \n",
       "1               0.954691           0.881042               639.0  \n",
       "2               0.958546           1.155309               600.0  \n",
       "3               0.808630           0.808630               652.0  \n",
       "4               0.971390           0.971390               625.0  "
      ]
     },
     "execution_count": 218,
     "metadata": {},
     "output_type": "execute_result"
    }
   ],
   "source": [
    "fff"
   ]
  },
  {
   "cell_type": "code",
   "execution_count": 224,
   "metadata": {},
   "outputs": [
    {
     "data": {
      "text/html": [
       "<div>\n",
       "<style>\n",
       "    .dataframe thead tr:only-child th {\n",
       "        text-align: right;\n",
       "    }\n",
       "\n",
       "    .dataframe thead th {\n",
       "        text-align: left;\n",
       "    }\n",
       "\n",
       "    .dataframe tbody tr th {\n",
       "        vertical-align: top;\n",
       "    }\n",
       "</style>\n",
       "<table border=\"1\" class=\"dataframe\">\n",
       "  <thead>\n",
       "    <tr style=\"text-align: right;\">\n",
       "      <th></th>\n",
       "      <th>name</th>\n",
       "      <th>type</th>\n",
       "      <th>size</th>\n",
       "      <th>budget</th>\n",
       "      <th>Average_Math_Score</th>\n",
       "      <th>Average_Reading_Score</th>\n",
       "      <th>% Overall Passing</th>\n",
       "      <th>Per Student Budget</th>\n",
       "    </tr>\n",
       "  </thead>\n",
       "  <tbody>\n",
       "    <tr>\n",
       "      <th>0</th>\n",
       "      <td>Huang High School</td>\n",
       "      <td>District</td>\n",
       "      <td>2917</td>\n",
       "      <td>1910635</td>\n",
       "      <td>0.656839</td>\n",
       "      <td>0.813164</td>\n",
       "      <td>0.735002</td>\n",
       "      <td>655.0</td>\n",
       "    </tr>\n",
       "    <tr>\n",
       "      <th>1</th>\n",
       "      <td>Figueroa High School</td>\n",
       "      <td>District</td>\n",
       "      <td>2949</td>\n",
       "      <td>1884411</td>\n",
       "      <td>0.807392</td>\n",
       "      <td>0.954691</td>\n",
       "      <td>0.881042</td>\n",
       "      <td>639.0</td>\n",
       "    </tr>\n",
       "    <tr>\n",
       "      <th>2</th>\n",
       "      <td>Shelton High School</td>\n",
       "      <td>Charter</td>\n",
       "      <td>1761</td>\n",
       "      <td>1056600</td>\n",
       "      <td>1.352073</td>\n",
       "      <td>0.958546</td>\n",
       "      <td>1.155309</td>\n",
       "      <td>600.0</td>\n",
       "    </tr>\n",
       "    <tr>\n",
       "      <th>3</th>\n",
       "      <td>Hernandez High School</td>\n",
       "      <td>District</td>\n",
       "      <td>4635</td>\n",
       "      <td>3022020</td>\n",
       "      <td>0.808630</td>\n",
       "      <td>0.808630</td>\n",
       "      <td>0.808630</td>\n",
       "      <td>652.0</td>\n",
       "    </tr>\n",
       "    <tr>\n",
       "      <th>4</th>\n",
       "      <td>Griffin High School</td>\n",
       "      <td>Charter</td>\n",
       "      <td>1468</td>\n",
       "      <td>917500</td>\n",
       "      <td>0.971390</td>\n",
       "      <td>0.971390</td>\n",
       "      <td>0.971390</td>\n",
       "      <td>625.0</td>\n",
       "    </tr>\n",
       "    <tr>\n",
       "      <th>5</th>\n",
       "      <td>Wilson High School</td>\n",
       "      <td>Charter</td>\n",
       "      <td>2283</td>\n",
       "      <td>1319574</td>\n",
       "      <td>0.965396</td>\n",
       "      <td>0.965396</td>\n",
       "      <td>0.965396</td>\n",
       "      <td>578.0</td>\n",
       "    </tr>\n",
       "    <tr>\n",
       "      <th>6</th>\n",
       "      <td>Cabrera High School</td>\n",
       "      <td>Charter</td>\n",
       "      <td>1858</td>\n",
       "      <td>1081356</td>\n",
       "      <td>0.970398</td>\n",
       "      <td>0.970398</td>\n",
       "      <td>0.970398</td>\n",
       "      <td>582.0</td>\n",
       "    </tr>\n",
       "    <tr>\n",
       "      <th>7</th>\n",
       "      <td>Bailey High School</td>\n",
       "      <td>District</td>\n",
       "      <td>4976</td>\n",
       "      <td>3124928</td>\n",
       "      <td>0.000000</td>\n",
       "      <td>0.000000</td>\n",
       "      <td>0.000000</td>\n",
       "      <td>628.0</td>\n",
       "    </tr>\n",
       "    <tr>\n",
       "      <th>8</th>\n",
       "      <td>Holden High School</td>\n",
       "      <td>Charter</td>\n",
       "      <td>427</td>\n",
       "      <td>248087</td>\n",
       "      <td>0.962529</td>\n",
       "      <td>0.962529</td>\n",
       "      <td>0.962529</td>\n",
       "      <td>581.0</td>\n",
       "    </tr>\n",
       "    <tr>\n",
       "      <th>9</th>\n",
       "      <td>Pena High School</td>\n",
       "      <td>Charter</td>\n",
       "      <td>962</td>\n",
       "      <td>585858</td>\n",
       "      <td>0.959459</td>\n",
       "      <td>0.959459</td>\n",
       "      <td>0.959459</td>\n",
       "      <td>609.0</td>\n",
       "    </tr>\n",
       "    <tr>\n",
       "      <th>10</th>\n",
       "      <td>Wright High School</td>\n",
       "      <td>Charter</td>\n",
       "      <td>1800</td>\n",
       "      <td>1049400</td>\n",
       "      <td>0.966111</td>\n",
       "      <td>0.966111</td>\n",
       "      <td>0.966111</td>\n",
       "      <td>583.0</td>\n",
       "    </tr>\n",
       "    <tr>\n",
       "      <th>11</th>\n",
       "      <td>Rodriguez High School</td>\n",
       "      <td>District</td>\n",
       "      <td>3999</td>\n",
       "      <td>2547363</td>\n",
       "      <td>0.802201</td>\n",
       "      <td>0.802201</td>\n",
       "      <td>0.802201</td>\n",
       "      <td>637.0</td>\n",
       "    </tr>\n",
       "    <tr>\n",
       "      <th>12</th>\n",
       "      <td>Johnson High School</td>\n",
       "      <td>District</td>\n",
       "      <td>4761</td>\n",
       "      <td>3094650</td>\n",
       "      <td>0.812224</td>\n",
       "      <td>0.812224</td>\n",
       "      <td>0.812224</td>\n",
       "      <td>650.0</td>\n",
       "    </tr>\n",
       "    <tr>\n",
       "      <th>13</th>\n",
       "      <td>Ford High School</td>\n",
       "      <td>District</td>\n",
       "      <td>2739</td>\n",
       "      <td>1763916</td>\n",
       "      <td>0.792990</td>\n",
       "      <td>0.792990</td>\n",
       "      <td>0.792990</td>\n",
       "      <td>644.0</td>\n",
       "    </tr>\n",
       "    <tr>\n",
       "      <th>14</th>\n",
       "      <td>Thomas High School</td>\n",
       "      <td>Charter</td>\n",
       "      <td>1635</td>\n",
       "      <td>1043130</td>\n",
       "      <td>0.973089</td>\n",
       "      <td>0.973089</td>\n",
       "      <td>0.973089</td>\n",
       "      <td>638.0</td>\n",
       "    </tr>\n",
       "  </tbody>\n",
       "</table>\n",
       "</div>"
      ],
      "text/plain": [
       "                     name      type  size   budget  Average_Math_Score  \\\n",
       "0       Huang High School  District  2917  1910635            0.656839   \n",
       "1    Figueroa High School  District  2949  1884411            0.807392   \n",
       "2     Shelton High School   Charter  1761  1056600            1.352073   \n",
       "3   Hernandez High School  District  4635  3022020            0.808630   \n",
       "4     Griffin High School   Charter  1468   917500            0.971390   \n",
       "5      Wilson High School   Charter  2283  1319574            0.965396   \n",
       "6     Cabrera High School   Charter  1858  1081356            0.970398   \n",
       "7      Bailey High School  District  4976  3124928            0.000000   \n",
       "8      Holden High School   Charter   427   248087            0.962529   \n",
       "9        Pena High School   Charter   962   585858            0.959459   \n",
       "10     Wright High School   Charter  1800  1049400            0.966111   \n",
       "11  Rodriguez High School  District  3999  2547363            0.802201   \n",
       "12    Johnson High School  District  4761  3094650            0.812224   \n",
       "13       Ford High School  District  2739  1763916            0.792990   \n",
       "14     Thomas High School   Charter  1635  1043130            0.973089   \n",
       "\n",
       "    Average_Reading_Score  % Overall Passing  Per Student Budget  \n",
       "0                0.813164           0.735002               655.0  \n",
       "1                0.954691           0.881042               639.0  \n",
       "2                0.958546           1.155309               600.0  \n",
       "3                0.808630           0.808630               652.0  \n",
       "4                0.971390           0.971390               625.0  \n",
       "5                0.965396           0.965396               578.0  \n",
       "6                0.970398           0.970398               582.0  \n",
       "7                0.000000           0.000000               628.0  \n",
       "8                0.962529           0.962529               581.0  \n",
       "9                0.959459           0.959459               609.0  \n",
       "10               0.966111           0.966111               583.0  \n",
       "11               0.802201           0.802201               637.0  \n",
       "12               0.812224           0.812224               650.0  \n",
       "13               0.792990           0.792990               644.0  \n",
       "14               0.973089           0.973089               638.0  "
      ]
     },
     "execution_count": 224,
     "metadata": {},
     "output_type": "execute_result"
    }
   ],
   "source": [
    "fff.set_index('name')\n",
    "fff"
   ]
  },
  {
   "cell_type": "code",
   "execution_count": 226,
   "metadata": {
    "collapsed": true
   },
   "outputs": [],
   "source": [
    "top5 = fff.sort_values('% Overall Passing', ascending=False)"
   ]
  },
  {
   "cell_type": "code",
   "execution_count": 227,
   "metadata": {},
   "outputs": [
    {
     "data": {
      "text/html": [
       "<div>\n",
       "<style>\n",
       "    .dataframe thead tr:only-child th {\n",
       "        text-align: right;\n",
       "    }\n",
       "\n",
       "    .dataframe thead th {\n",
       "        text-align: left;\n",
       "    }\n",
       "\n",
       "    .dataframe tbody tr th {\n",
       "        vertical-align: top;\n",
       "    }\n",
       "</style>\n",
       "<table border=\"1\" class=\"dataframe\">\n",
       "  <thead>\n",
       "    <tr style=\"text-align: right;\">\n",
       "      <th></th>\n",
       "      <th>name</th>\n",
       "      <th>type</th>\n",
       "      <th>size</th>\n",
       "      <th>budget</th>\n",
       "      <th>Average_Math_Score</th>\n",
       "      <th>Average_Reading_Score</th>\n",
       "      <th>% Overall Passing</th>\n",
       "      <th>Per Student Budget</th>\n",
       "    </tr>\n",
       "  </thead>\n",
       "  <tbody>\n",
       "    <tr>\n",
       "      <th>2</th>\n",
       "      <td>Shelton High School</td>\n",
       "      <td>Charter</td>\n",
       "      <td>1761</td>\n",
       "      <td>1056600</td>\n",
       "      <td>1.352073</td>\n",
       "      <td>0.958546</td>\n",
       "      <td>1.155309</td>\n",
       "      <td>600.0</td>\n",
       "    </tr>\n",
       "    <tr>\n",
       "      <th>14</th>\n",
       "      <td>Thomas High School</td>\n",
       "      <td>Charter</td>\n",
       "      <td>1635</td>\n",
       "      <td>1043130</td>\n",
       "      <td>0.973089</td>\n",
       "      <td>0.973089</td>\n",
       "      <td>0.973089</td>\n",
       "      <td>638.0</td>\n",
       "    </tr>\n",
       "    <tr>\n",
       "      <th>4</th>\n",
       "      <td>Griffin High School</td>\n",
       "      <td>Charter</td>\n",
       "      <td>1468</td>\n",
       "      <td>917500</td>\n",
       "      <td>0.971390</td>\n",
       "      <td>0.971390</td>\n",
       "      <td>0.971390</td>\n",
       "      <td>625.0</td>\n",
       "    </tr>\n",
       "    <tr>\n",
       "      <th>6</th>\n",
       "      <td>Cabrera High School</td>\n",
       "      <td>Charter</td>\n",
       "      <td>1858</td>\n",
       "      <td>1081356</td>\n",
       "      <td>0.970398</td>\n",
       "      <td>0.970398</td>\n",
       "      <td>0.970398</td>\n",
       "      <td>582.0</td>\n",
       "    </tr>\n",
       "    <tr>\n",
       "      <th>10</th>\n",
       "      <td>Wright High School</td>\n",
       "      <td>Charter</td>\n",
       "      <td>1800</td>\n",
       "      <td>1049400</td>\n",
       "      <td>0.966111</td>\n",
       "      <td>0.966111</td>\n",
       "      <td>0.966111</td>\n",
       "      <td>583.0</td>\n",
       "    </tr>\n",
       "  </tbody>\n",
       "</table>\n",
       "</div>"
      ],
      "text/plain": [
       "                   name     type  size   budget  Average_Math_Score  \\\n",
       "2   Shelton High School  Charter  1761  1056600            1.352073   \n",
       "14   Thomas High School  Charter  1635  1043130            0.973089   \n",
       "4   Griffin High School  Charter  1468   917500            0.971390   \n",
       "6   Cabrera High School  Charter  1858  1081356            0.970398   \n",
       "10   Wright High School  Charter  1800  1049400            0.966111   \n",
       "\n",
       "    Average_Reading_Score  % Overall Passing  Per Student Budget  \n",
       "2                0.958546           1.155309               600.0  \n",
       "14               0.973089           0.973089               638.0  \n",
       "4                0.971390           0.971390               625.0  \n",
       "6                0.970398           0.970398               582.0  \n",
       "10               0.966111           0.966111               583.0  "
      ]
     },
     "execution_count": 227,
     "metadata": {},
     "output_type": "execute_result"
    }
   ],
   "source": [
    "top5.head()"
   ]
  },
  {
   "cell_type": "code",
   "execution_count": 228,
   "metadata": {},
   "outputs": [
    {
     "data": {
      "text/html": [
       "<div>\n",
       "<style>\n",
       "    .dataframe thead tr:only-child th {\n",
       "        text-align: right;\n",
       "    }\n",
       "\n",
       "    .dataframe thead th {\n",
       "        text-align: left;\n",
       "    }\n",
       "\n",
       "    .dataframe tbody tr th {\n",
       "        vertical-align: top;\n",
       "    }\n",
       "</style>\n",
       "<table border=\"1\" class=\"dataframe\">\n",
       "  <thead>\n",
       "    <tr style=\"text-align: right;\">\n",
       "      <th></th>\n",
       "      <th>name</th>\n",
       "      <th>type</th>\n",
       "      <th>size</th>\n",
       "      <th>budget</th>\n",
       "      <th>Average_Math_Score</th>\n",
       "      <th>Average_Reading_Score</th>\n",
       "      <th>% Overall Passing</th>\n",
       "      <th>Per Student Budget</th>\n",
       "    </tr>\n",
       "  </thead>\n",
       "  <tbody>\n",
       "    <tr>\n",
       "      <th>7</th>\n",
       "      <td>Bailey High School</td>\n",
       "      <td>District</td>\n",
       "      <td>4976</td>\n",
       "      <td>3124928</td>\n",
       "      <td>0.000000</td>\n",
       "      <td>0.000000</td>\n",
       "      <td>0.000000</td>\n",
       "      <td>628.0</td>\n",
       "    </tr>\n",
       "    <tr>\n",
       "      <th>0</th>\n",
       "      <td>Huang High School</td>\n",
       "      <td>District</td>\n",
       "      <td>2917</td>\n",
       "      <td>1910635</td>\n",
       "      <td>0.656839</td>\n",
       "      <td>0.813164</td>\n",
       "      <td>0.735002</td>\n",
       "      <td>655.0</td>\n",
       "    </tr>\n",
       "    <tr>\n",
       "      <th>13</th>\n",
       "      <td>Ford High School</td>\n",
       "      <td>District</td>\n",
       "      <td>2739</td>\n",
       "      <td>1763916</td>\n",
       "      <td>0.792990</td>\n",
       "      <td>0.792990</td>\n",
       "      <td>0.792990</td>\n",
       "      <td>644.0</td>\n",
       "    </tr>\n",
       "    <tr>\n",
       "      <th>11</th>\n",
       "      <td>Rodriguez High School</td>\n",
       "      <td>District</td>\n",
       "      <td>3999</td>\n",
       "      <td>2547363</td>\n",
       "      <td>0.802201</td>\n",
       "      <td>0.802201</td>\n",
       "      <td>0.802201</td>\n",
       "      <td>637.0</td>\n",
       "    </tr>\n",
       "    <tr>\n",
       "      <th>3</th>\n",
       "      <td>Hernandez High School</td>\n",
       "      <td>District</td>\n",
       "      <td>4635</td>\n",
       "      <td>3022020</td>\n",
       "      <td>0.808630</td>\n",
       "      <td>0.808630</td>\n",
       "      <td>0.808630</td>\n",
       "      <td>652.0</td>\n",
       "    </tr>\n",
       "  </tbody>\n",
       "</table>\n",
       "</div>"
      ],
      "text/plain": [
       "                     name      type  size   budget  Average_Math_Score  \\\n",
       "7      Bailey High School  District  4976  3124928            0.000000   \n",
       "0       Huang High School  District  2917  1910635            0.656839   \n",
       "13       Ford High School  District  2739  1763916            0.792990   \n",
       "11  Rodriguez High School  District  3999  2547363            0.802201   \n",
       "3   Hernandez High School  District  4635  3022020            0.808630   \n",
       "\n",
       "    Average_Reading_Score  % Overall Passing  Per Student Budget  \n",
       "7                0.000000           0.000000               628.0  \n",
       "0                0.813164           0.735002               655.0  \n",
       "13               0.792990           0.792990               644.0  \n",
       "11               0.802201           0.802201               637.0  \n",
       "3                0.808630           0.808630               652.0  "
      ]
     },
     "execution_count": 228,
     "metadata": {},
     "output_type": "execute_result"
    }
   ],
   "source": [
    "bot5 = fff.sort_values('% Overall Passing')\n",
    "bot5.head()"
   ]
  }
 ],
 "metadata": {
  "kernelspec": {
   "display_name": "Python [conda env:PythonData]",
   "language": "python",
   "name": "conda-env-PythonData-py"
  },
  "language_info": {
   "codemirror_mode": {
    "name": "ipython",
    "version": 3
   },
   "file_extension": ".py",
   "mimetype": "text/x-python",
   "name": "python",
   "nbconvert_exporter": "python",
   "pygments_lexer": "ipython3",
   "version": "3.6.2"
  }
 },
 "nbformat": 4,
 "nbformat_minor": 2
}
